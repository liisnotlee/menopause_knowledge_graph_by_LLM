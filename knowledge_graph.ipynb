{
 "cells": [
  {
   "cell_type": "code",
   "execution_count": null,
   "metadata": {},
   "outputs": [],
   "source": [
    "%pip install --upgrade langchain langchain-experimental langchain-openai python-dotenv pyvis"
   ]
  },
  {
   "cell_type": "code",
   "execution_count": 18,
   "metadata": {},
   "outputs": [],
   "source": [
    "import json, re"
   ]
  },
  {
   "cell_type": "code",
   "execution_count": 11,
   "metadata": {},
   "outputs": [],
   "source": [
    "from dotenv import load_dotenv\n",
    "import os\n",
    "\n",
    "# Load the .env file\n",
    "load_dotenv(override=True)\n",
    "# Get API key from environment variable \n",
    "# (make sure the key is present in .env file in the project directory)\n",
    "api_key = os.getenv(\"OPENAI_API_KEY\")"
   ]
  },
  {
   "cell_type": "code",
   "execution_count": 15,
   "metadata": {},
   "outputs": [],
   "source": [
    "from langchain_experimental.graph_transformers import LLMGraphTransformer\n",
    "from langchain_core.documents import Document\n",
    "from langchain_openai import ChatOpenAI\n",
    "from langchain_core.prompts import ChatPromptTemplate\n",
    "from langchain_community.document_loaders import WebBaseLoader\n",
    "from typing import List, Dict, Tuple, Optional, Iterable\n",
    "from pydantic import BaseModel, Field\n",
    "\n",
    "from langchain_community.document_transformers import Html2TextTransformer\n",
    "from langchain.text_splitter import RecursiveCharacterTextSplitter\n"
   ]
  },
  {
   "cell_type": "markdown",
   "metadata": {},
   "source": [
    "### LLM Graph Transformer\n",
    "Using GPT-4o in all examples."
   ]
  },
  {
   "cell_type": "code",
   "execution_count": null,
   "metadata": {},
   "outputs": [],
   "source": [
    "llm = ChatOpenAI(temperature=0, model_name=\"gpt-4o\")\n",
    "\n",
    "graph_transformer = LLMGraphTransformer(llm=llm)"
   ]
  },
  {
   "cell_type": "markdown",
   "metadata": {},
   "source": [
    "### Extract Data from Web Sources"
   ]
  },
  {
   "cell_type": "code",
   "execution_count": 40,
   "metadata": {},
   "outputs": [],
   "source": [
    "URL = \"https://zoe.com/learn/foods-that-ease-hot-flashes\"\n",
    "\n",
    "# —— 1) 抓取网页并转纯文本 ——\n",
    "docs = WebBaseLoader(URL).load()\n",
    "plain = Html2TextTransformer().transform_documents(docs)\n",
    "\n",
    "splitter = RecursiveCharacterTextSplitter(chunk_size=3000, chunk_overlap=200)\n",
    "chunks = splitter.split_documents(plain)\n"
   ]
  },
  {
   "cell_type": "code",
   "execution_count": 30,
   "metadata": {},
   "outputs": [
    {
     "data": {
      "text/plain": [
       "\"Hot Flashes in Menopause: Foods To Eat and Foods To AvoidAccessibility\\nStatementZOE App & Gut Health TestNewDaily30+Our\\nscienceMenoScaleLibraryFAQsInvestMenuZOE App & Gut Health TestNewDaily30+Our\\nscienceMenoScaleLibraryFAQsInvestNutritionGut HealthCOVIDHealthy LivingLife\\nStagesHealth ConditionsPodcastsLife StagesMenopauseUpdated 14th October\\n2024What foods help ease hot flashes in menopause?Written byCaroline Thomason,\\nRD, CDCESReviewed byKate Bermingham, PhDShare this articleMenopauseFoods to\\neatFoods to avoidSummaryHot flashes are a very common menopause symptom, and\\nresearch suggests that eating certain foods and avoiding others may help.\\nMenopause is the point in a woman’s life when she hasn’t had a period for 12\\nmonths due to certain hormonal changes. The time leading up to it is called\\nperimenopause and generally lasts for several years.The levels of hormones in\\nthe body fluctuate throughout this time, which is why hot flashes are so\\ncommon during perimenopause and even beyond menopause. At ZOE, we run the\\nlargest nutrition study of its kind in the world, with over 10,000\\ncontributors to date. In our research, we have seen many differences between\\nwomen before and after menopause, including worse sleep.Take a free quiz to\\nfind out more about how the ZOE program can help you eat the best foods for\\nyour body before, during, and after menopause.Read on to learn how improving\\nyour diet might help relieve menopause symptoms. We'll also cover some\\nresearch into specific foods and how they might help. Discover your unique\\nbiologyUnderstand how your body responds to food with ZOETake the first\\nstepWhat changes in the body during menopause?During perimenopause, women\\nexperience fluctuations in levels of the reproductive hormones estrogen and\\nprogesterone. You may notice changes in your menstrual cycle or the intensity\\nof your periods.After menopause, when you haven’t had a period for 12 months,\\nestrogen settles at a lower level and your body stops producing progesterone\\ncompletely. During this process, you may experience a range of symptoms,\\nincluding:menstrual changessleep disturbancesmood changesbladder control\\nissuesvaginal drynesshot flashesweight gainproblems with memoryHot flashes and\\n“night sweats” are the most common symptoms of perimenopause, and almost 80%\\nof women experience them.During a hot flash, you may feel a sudden warmth or\\nheat spreading around your neck, face, or upper body. This can be accompanied\\nby a flushed appearance, sweating, and often anxiety.Experts don't know\\nexactly what causes or triggers hot flashes, but they suspect that changing\\nhormone levels affect the hypothalamus, which is the part of your brain that\\nregulates body temperature. Foods and diet changes that could ease hot\\nflashesHere's some good news: There’s evidence that making changes to what you\\neat can help reduce menopausal symptoms. As we’ll see below, scientists have\\nlooked at different aspects of this, but it can be broadly summed up in one\\nshort sentence: Eat more plants.PhytoestrogensPhytoestrogens are plant\\ncompounds that mimic some of the functions of estrogen. They may help to\\ncounter the reduced hormone levels that accompany menopause. There are two\\nmain types of phytoestrogens — isoflavones and lignans.Soybeans are\\nparticularly rich in isoflavones and lignans. Flaxseeds and sesame have high\\nlevels of lignans.Other plants that contain lignans include: nuts and seeds:\\ncashewswhole grains: rye, oats, wheat, spelt, buckwheat fruits: apricot,\\npears, grapes, kiwi vegetables: bell pepper, green beans, carrots, zucchini A\\nreview of 10 studies concluded that women who took phytoestrogen supplements\\nexperienced hot flashes much less often than those who didn’t. The amount of\\nphytoestrogen that the women in these studies took varied from 36 mg to 100 mg\\nper day. In comparison, 3 ounces of soft tofu contains 20 mg of isoflavones,\\nand 3 ounces of natto has 70 mg. However, not all studies have shown a strong\\neffect, so scientists are still investigating. But because foods that contain\\nisoflavones are all healthy options, there's no harm in giving them a try.A\\nplant-based dietA small study examining the effects of a low-fat, plant-based\\ndiet showed that eating more plants may help with hot flashes.The participants\\nwere all women who experienced hot flashes at least twice a day and had gone\\nthrough menopause. One group switched to a plant-based diet — including half a\\ncup per day of cooked soybeans — while the other group stuck to their normal\\ndiets.After 12 weeks, those in the plant-based group experienced significantly\\nfewer hot flashes than those in the control group, with most also reporting\\nless severe symptoms.It's important to note that this was a small study, so we\\nneed to be careful not to over-interpret the results. At the same time, we\\nknow that a plant-based diet is good for your health, so upping your plant\\nintake is a great idea whether it reduces hot flashes or not.The Mediterranean\\ndietThe Mediterranean diet is an eating pattern that is high in vegetables,\\nfruits, nuts, legumes (like lentils and chickpeas), and healthy oils like\\nolive oil. One large-scale study looked at the eating habits of 6,040 women.\\nIt identified six different patterns of eating and found that women who ate a\\nMediterranean diet or consumed lots of fruit were significantly less likely to\\nreport hot flashes and night sweats than those on the other diets.Join our\\nmailing listGet occasional updates on our latest developments and scientific\\ndiscoveries. No spam. We promise.Foods to avoidJust as eating more of certain\\nfoods may help with your hot flashes, so could limiting the amounts of some\\nother foods and drinks you consume. CoffeeThe caffeine in coffee and tea\\nnarrows your blood vessels and raises blood pressure, which may be involved in\\ntriggering hot flashes. One large-scale study showed that consuming more\\ncaffeine was linked to experiencing more hot flashes. So, cutting down on\\ncoffee could help with your symptoms.Everyone responds differently to\\ncaffeine, so it might be worth reducing your intake to see if it helps.Foods\\nhigh in fat and sugarThe same study that showed the Mediterranean diet can\\nhelp with hot flashes also found that a diet high in fat and processed sugar\\ncan do the opposite. So, if you experience hot flashes, try to limit the\\namount of sweets and cakes you eat. With ZOE, no food is off the table, but\\neating these foods just once in a while might help. Our research has found\\nthat the way women’s bodies respond to food changes. You're more likely to\\nexperience high blood sugar after meals, which can lead to weight gain during\\nmenopause and a higher risk of chronic health conditions. Spicy foodsThere’s\\nsome research to indicate that spicy foods can make hot flashes worse or\\nhappen more often. But research into this is limited. If you regularly eat hot\\nfood and have hot flashes, try milder spices to see if that helps with your\\nsymptoms. SummaryMenopause and the lead up to it can come with uncomfortable\\nsymptoms for women. But there’s good evidence that changing to your diet might\\nhelp. Experiment with plants that are rich in phytoestrogens — like soybeans,\\nflaxseeds, whole grains, and legumes — or follow the Mediterranean diet, which\\nis also rich in plants and healthy oils.Limiting foods high in processed sugar\\nand fat can help, too. And you can also try cutting down on spicy foods and\\ncaffeine, and focus on staying hydrated by drinking plenty of water. Although\\nthese broad changes to your diet may help with your hot flashes, at ZOE, we\\nknow that nutrition is highly personal. The ZOE at-home test analyzes your\\nbody’s responses to food and the bacteria in your gut to find the best foods\\nfor you at your current life stage. Take our free quiz to find out more.\\nSourcesCaffeine and menopausal symptoms: what is the association? Menopause.\\n(2015). \""
      ]
     },
     "execution_count": 30,
     "metadata": {},
     "output_type": "execute_result"
    }
   ],
   "source": [
    "text = plain[0].page_content\n",
    "index = text.find(\"https\")\n",
    "trimmed_text = text[:index]\n",
    "trimmed_text"
   ]
  },
  {
   "cell_type": "code",
   "execution_count": 45,
   "metadata": {},
   "outputs": [],
   "source": [
    "SCHEMA_HINT = \"\"\"\n",
    "You are extracting a menopause knowledge graph from text.\n",
    "You need to identify all concepts such as symptoms, food items, bioactive chemicals, and their relationships.\n",
    "\n",
    "[RULES]\n",
    "- Map synonyms to one concept, for example: \"hot flashes\"/\"hot flushes\" to the same Symptom.\n",
    "- Keep names concise (e.g., 'hot flashes', 'soy foods', 'Mediterranean diet'). \n",
    "\n",
    "Return triples only; no summaries.\n",
    "\"\"\"\n",
    "\n",
    "llm = ChatOpenAI(model=os.getenv(\"OPENAI_MODEL_NAME\", \"gpt-4o\"), temperature=0)\n",
    "\n",
    "graph_prompt = ChatPromptTemplate.from_messages([\n",
    "(\"system\", SCHEMA_HINT + \"Return triples only; do not summarize.\"),\n",
    "(\"human\", \"Extract menopause knowledge graph triples from given text. Return only graph objects.\"),\n",
    "])\n",
    "\n",
    "extractor = LLMGraphTransformer(llm=llm, prompt=graph_prompt)"
   ]
  },
  {
   "cell_type": "code",
   "execution_count": 47,
   "metadata": {},
   "outputs": [],
   "source": [
    "documents = [Document(page_content=text, metadata={\"source\": \"manual_string\"})]\n",
    "graph_documents = extractor.convert_to_graph_documents(documents)"
   ]
  },
  {
   "cell_type": "code",
   "execution_count": 48,
   "metadata": {},
   "outputs": [
    {
     "name": "stdout",
     "output_type": "stream",
     "text": [
      "Nodes:[Node(id='Hot Flashes', type='Symptom', properties={}), Node(id='Soy Foods', type='Food', properties={}), Node(id='Isoflavones', type='Bioactive chemical', properties={}), Node(id='Mediterranean Diet', type='Food', properties={}), Node(id='Fruits', type='Food', properties={}), Node(id='Vegetables', type='Food', properties={}), Node(id='Whole Grains', type='Food', properties={}), Node(id='Nuts', type='Food', properties={}), Node(id='Seeds', type='Food', properties={})]\n",
      "Relationships:[Relationship(source=Node(id='Soy Foods', type='Food', properties={}), target=Node(id='Isoflavones', type='Bioactive chemical', properties={}), type='CONTAIN', properties={}), Relationship(source=Node(id='Isoflavones', type='Bioactive chemical', properties={}), target=Node(id='Hot Flashes', type='Symptom', properties={}), type='REDUCE', properties={}), Relationship(source=Node(id='Mediterranean Diet', type='Food', properties={}), target=Node(id='Fruits', type='Food', properties={}), type='INCLUDE', properties={}), Relationship(source=Node(id='Mediterranean Diet', type='Food', properties={}), target=Node(id='Vegetables', type='Food', properties={}), type='INCLUDE', properties={}), Relationship(source=Node(id='Mediterranean Diet', type='Food', properties={}), target=Node(id='Whole Grains', type='Food', properties={}), type='INCLUDE', properties={}), Relationship(source=Node(id='Mediterranean Diet', type='Food', properties={}), target=Node(id='Nuts', type='Food', properties={}), type='INCLUDE', properties={}), Relationship(source=Node(id='Mediterranean Diet', type='Food', properties={}), target=Node(id='Seeds', type='Food', properties={}), type='INCLUDE', properties={})]\n"
     ]
    }
   ],
   "source": [
    "print(f\"Nodes:{graph_documents[0].nodes}\")\n",
    "print(f\"Relationships:{graph_documents[0].relationships}\")"
   ]
  },
  {
   "cell_type": "markdown",
   "metadata": {},
   "source": [
    "### Extract graph data"
   ]
  },
  {
   "cell_type": "code",
   "execution_count": 6,
   "metadata": {},
   "outputs": [],
   "source": [
    "text = \"\"\"\n",
    "Albert Einstein[a] (14 March 1879 – 18 April 1955) was a German-born theoretical physicist who is best known for developing the theory of relativity. Einstein also made important contributions to quantum mechanics.[1][5] His mass–energy equivalence formula E = mc2, which arises from special relativity, has been called \"the world's most famous equation\".[6] He received the 1921 Nobel Prize in Physics for his services to theoretical physics, and especially for his discovery of the law of the photoelectric effect.[7]\n",
    "\n",
    "Born in the German Empire, Einstein moved to Switzerland in 1895, forsaking his German citizenship (as a subject of the Kingdom of Württemberg)[note 1] the following year. In 1897, at the age of seventeen, he enrolled in the mathematics and physics teaching diploma program at the Swiss federal polytechnic school in Zurich, graduating in 1900. He acquired Swiss citizenship a year later, which he kept for the rest of his life, and afterwards secured a permanent position at the Swiss Patent Office in Bern. In 1905, he submitted a successful PhD dissertation to the University of Zurich. In 1914, he moved to Berlin to join the Prussian Academy of Sciences and the Humboldt University of Berlin, becoming director of the Kaiser Wilhelm Institute for Physics in 1917; he also became a German citizen again, this time as a subject of the Kingdom of Prussia.[note 1] In 1933, while Einstein was visiting the United States, Adolf Hitler came to power in Germany. Horrified by the Nazi persecution of his fellow Jews,[8] he decided to remain in the US, and was granted American citizenship in 1940.[9] On the eve of World War II, he endorsed a letter to President Franklin D. Roosevelt alerting him to the potential German nuclear weapons program and recommending that the US begin similar research.\n",
    "\n",
    "In 1905, sometimes described as his annus mirabilis (miracle year), he published four groundbreaking papers.[10] In them, he outlined a theory of the photoelectric effect, explained Brownian motion, introduced his special theory of relativity, and demonstrated that if the special theory is correct, mass and energy are equivalent to each other. In 1915, he proposed a general theory of relativity that extended his system of mechanics to incorporate gravitation. A cosmological paper that he published the following year laid out the implications of general relativity for the modeling of the structure and evolution of the universe as a whole.[11][12] In 1917, Einstein wrote a paper which introduced the concepts of spontaneous emission and stimulated emission, the latter of which is the core mechanism behind the laser and maser, and which contained a trove of information that would be beneficial to developments in physics later on, such as quantum electrodynamics and quantum optics.[13]\n",
    "\n",
    "In the middle part of his career, Einstein made important contributions to statistical mechanics and quantum theory. Especially notable was his work on the quantum physics of radiation, in which light consists of particles, subsequently called photons. With physicist Satyendra Nath Bose, he laid the groundwork for Bose–Einstein statistics. For much of the last phase of his academic life, Einstein worked on two endeavors that ultimately proved unsuccessful. First, he advocated against quantum theory's introduction of fundamental randomness into science's picture of the world, objecting that God does not play dice.[14] Second, he attempted to devise a unified field theory by generalizing his geometric theory of gravitation to include electromagnetism. As a result, he became increasingly isolated from mainstream modern physics.\n",
    "\"\"\""
   ]
  },
  {
   "cell_type": "code",
   "execution_count": 7,
   "metadata": {},
   "outputs": [],
   "source": [
    "documents = [Document(page_content=text)]\n",
    "graph_documents = await graph_transformer.aconvert_to_graph_documents(documents)"
   ]
  },
  {
   "cell_type": "markdown",
   "metadata": {},
   "source": [
    "#### Visualize graph"
   ]
  },
  {
   "cell_type": "code",
   "execution_count": 49,
   "metadata": {},
   "outputs": [
    {
     "name": "stdout",
     "output_type": "stream",
     "text": [
      "Graph saved to /Users/ml5128/Documents/BINFG4003_SymbolicAI/Project/menopause_knowledge_graph_by_LLM/knowledge_graph.html\n"
     ]
    }
   ],
   "source": [
    "from pyvis.network import Network\n",
    "\n",
    "def visualize_graph(graph_documents):\n",
    "\n",
    "    # Create network\n",
    "    net = Network(height=\"1200px\", width=\"100%\", directed=True,\n",
    "                      notebook=False, bgcolor=\"#222222\", font_color=\"white\")\n",
    "    \n",
    "    nodes = graph_documents[0].nodes\n",
    "    relationships = graph_documents[0].relationships\n",
    "\n",
    "    # Build lookup for valid nodes\n",
    "    node_dict = {node.id: node for node in nodes}\n",
    "    \n",
    "    # Filter out invalid edges and collect valid node IDs\n",
    "    valid_edges = []\n",
    "    valid_node_ids = set()\n",
    "    for rel in relationships:\n",
    "        if rel.source.id in node_dict and rel.target.id in node_dict:\n",
    "            valid_edges.append(rel)\n",
    "            valid_node_ids.update([rel.source.id, rel.target.id])\n",
    "\n",
    "\n",
    "    # Track which nodes are part of any relationship\n",
    "    connected_node_ids = set()\n",
    "    for rel in relationships:\n",
    "        connected_node_ids.add(rel.source.id)\n",
    "        connected_node_ids.add(rel.target.id)\n",
    "\n",
    "    # Add valid nodes\n",
    "    for node_id in valid_node_ids:\n",
    "        node = node_dict[node_id]\n",
    "        try:\n",
    "            net.add_node(node.id, label=node.id, title=node.type, group=node.type)\n",
    "        except:\n",
    "            continue  # skip if error\n",
    "\n",
    "    # Add valid edges\n",
    "    for rel in valid_edges:\n",
    "        try:\n",
    "            net.add_edge(rel.source.id, rel.target.id, label=rel.type.lower())\n",
    "        except:\n",
    "            continue  # skip if error\n",
    "\n",
    "    # Configure physics\n",
    "    net.set_options(\"\"\"\n",
    "            {\n",
    "                \"physics\": {\n",
    "                    \"forceAtlas2Based\": {\n",
    "                        \"gravitationalConstant\": -100,\n",
    "                        \"centralGravity\": 0.01,\n",
    "                        \"springLength\": 200,\n",
    "                        \"springConstant\": 0.08\n",
    "                    },\n",
    "                    \"minVelocity\": 0.75,\n",
    "                    \"solver\": \"forceAtlas2Based\"\n",
    "                }\n",
    "            }\n",
    "            \"\"\")\n",
    "        \n",
    "    output_file = \"knowledge_graph.html\"\n",
    "    net.save_graph(output_file)\n",
    "    print(f\"Graph saved to {os.path.abspath(output_file)}\")\n",
    "\n",
    "    # Try to open in browser\n",
    "    try:\n",
    "        import webbrowser\n",
    "        webbrowser.open(f\"file://{os.path.abspath(output_file)}\")\n",
    "    except:\n",
    "        print(\"Could not open browser automatically\")\n",
    "        \n",
    "# Run the function\n",
    "visualize_graph(graph_documents)"
   ]
  },
  {
   "cell_type": "markdown",
   "metadata": {},
   "source": [
    "### Extract specific types of nodes"
   ]
  },
  {
   "cell_type": "code",
   "execution_count": 40,
   "metadata": {},
   "outputs": [],
   "source": [
    "allowed_nodes = [\"Person\", \"Organization\", \"Location\", \"Award\", \"ResearchField\"]\n",
    "graph_transformer_nodes_defined = LLMGraphTransformer(llm=llm, allowed_nodes=allowed_nodes)\n",
    "graph_documents_nodes_defined = await graph_transformer_nodes_defined.aconvert_to_graph_documents(documents)"
   ]
  },
  {
   "cell_type": "code",
   "execution_count": 41,
   "metadata": {},
   "outputs": [
    {
     "name": "stdout",
     "output_type": "stream",
     "text": [
      "Nodes:[Node(id='Albert Einstein', type='Person', properties={}), Node(id='German Empire', type='Location', properties={}), Node(id='Switzerland', type='Location', properties={}), Node(id='University Of Zurich', type='Organization', properties={}), Node(id='Prussian Academy Of Sciences', type='Organization', properties={}), Node(id='Humboldt University Of Berlin', type='Organization', properties={}), Node(id='Kaiser Wilhelm Institute For Physics', type='Organization', properties={}), Node(id='United States', type='Location', properties={}), Node(id='Franklin D. Roosevelt', type='Person', properties={}), Node(id='Nobel Prize In Physics', type='Award', properties={}), Node(id='Theory Of Relativity', type='Researchfield', properties={}), Node(id='Quantum Mechanics', type='Researchfield', properties={}), Node(id='Photoelectric Effect', type='Researchfield', properties={}), Node(id='Special Relativity', type='Researchfield', properties={}), Node(id='General Relativity', type='Researchfield', properties={}), Node(id='Quantum Electrodynamics', type='Researchfield', properties={}), Node(id='Quantum Optics', type='Researchfield', properties={}), Node(id='Statistical Mechanics', type='Researchfield', properties={}), Node(id='Quantum Theory', type='Researchfield', properties={}), Node(id='Unified Field Theory', type='Researchfield', properties={})]\n",
      "Relationships:[Relationship(source=Node(id='Albert Einstein', type='Person', properties={}), target=Node(id='German Empire', type='Location', properties={}), type='BORN_IN', properties={}), Relationship(source=Node(id='Albert Einstein', type='Person', properties={}), target=Node(id='Switzerland', type='Location', properties={}), type='MOVED_TO', properties={}), Relationship(source=Node(id='Albert Einstein', type='Person', properties={}), target=Node(id='University Of Zurich', type='Organization', properties={}), type='PHD_FROM', properties={}), Relationship(source=Node(id='Albert Einstein', type='Person', properties={}), target=Node(id='Prussian Academy Of Sciences', type='Organization', properties={}), type='MEMBER_OF', properties={}), Relationship(source=Node(id='Albert Einstein', type='Person', properties={}), target=Node(id='Humboldt University Of Berlin', type='Organization', properties={}), type='MEMBER_OF', properties={}), Relationship(source=Node(id='Albert Einstein', type='Person', properties={}), target=Node(id='Kaiser Wilhelm Institute For Physics', type='Organization', properties={}), type='DIRECTOR_OF', properties={}), Relationship(source=Node(id='Albert Einstein', type='Person', properties={}), target=Node(id='United States', type='Location', properties={}), type='MOVED_TO', properties={}), Relationship(source=Node(id='Albert Einstein', type='Person', properties={}), target=Node(id='Franklin D. Roosevelt', type='Person', properties={}), type='ENDORSED_LETTER_TO', properties={}), Relationship(source=Node(id='Albert Einstein', type='Person', properties={}), target=Node(id='Nobel Prize In Physics', type='Award', properties={}), type='AWARDED', properties={}), Relationship(source=Node(id='Albert Einstein', type='Person', properties={}), target=Node(id='Theory Of Relativity', type='Researchfield', properties={}), type='CONTRIBUTED_TO', properties={}), Relationship(source=Node(id='Albert Einstein', type='Person', properties={}), target=Node(id='Quantum Mechanics', type='Researchfield', properties={}), type='CONTRIBUTED_TO', properties={}), Relationship(source=Node(id='Albert Einstein', type='Person', properties={}), target=Node(id='Photoelectric Effect', type='Researchfield', properties={}), type='DISCOVERED', properties={}), Relationship(source=Node(id='Albert Einstein', type='Person', properties={}), target=Node(id='Special Relativity', type='Researchfield', properties={}), type='CONTRIBUTED_TO', properties={}), Relationship(source=Node(id='Albert Einstein', type='Person', properties={}), target=Node(id='General Relativity', type='Researchfield', properties={}), type='PROPOSED', properties={}), Relationship(source=Node(id='Albert Einstein', type='Person', properties={}), target=Node(id='Quantum Electrodynamics', type='Researchfield', properties={}), type='CONTRIBUTED_TO', properties={}), Relationship(source=Node(id='Albert Einstein', type='Person', properties={}), target=Node(id='Quantum Optics', type='Researchfield', properties={}), type='CONTRIBUTED_TO', properties={}), Relationship(source=Node(id='Albert Einstein', type='Person', properties={}), target=Node(id='Statistical Mechanics', type='Researchfield', properties={}), type='CONTRIBUTED_TO', properties={}), Relationship(source=Node(id='Albert Einstein', type='Person', properties={}), target=Node(id='Quantum Theory', type='Researchfield', properties={}), type='CONTRIBUTED_TO', properties={}), Relationship(source=Node(id='Albert Einstein', type='Person', properties={}), target=Node(id='Unified Field Theory', type='Researchfield', properties={}), type='ATTEMPTED', properties={})]\n"
     ]
    }
   ],
   "source": [
    "print(f\"Nodes:{graph_documents_nodes_defined[0].nodes}\")\n",
    "print(f\"Relationships:{graph_documents_nodes_defined[0].relationships}\")"
   ]
  },
  {
   "cell_type": "markdown",
   "metadata": {},
   "source": [
    "### Extract specific types of relationships"
   ]
  },
  {
   "cell_type": "code",
   "execution_count": 42,
   "metadata": {},
   "outputs": [],
   "source": [
    "allowed_nodes = [\"Person\", \"Organization\", \"Location\", \"Award\", \"ResearchField\"]\n",
    "allowed_relationships = [\n",
    "    (\"Person\", \"WORKS_AT\", \"Organization\"),\n",
    "    (\"Person\", \"SPOUSE\", \"Person\"),\n",
    "    (\"Person\", \"AWARD\", \"Award\"),\n",
    "    (\"Organization\", \"IN_LOCATION\", \"Location\"),\n",
    "    (\"Person\", \"FIELD_OF_RESEARCH\", \"ResearchField\")\n",
    "]\n",
    "graph_transformer_rel_defined = LLMGraphTransformer(\n",
    "  llm=llm,\n",
    "  allowed_nodes=allowed_nodes,\n",
    "  allowed_relationships=allowed_relationships\n",
    ")\n",
    "graph_documents_rel_defined = await graph_transformer_rel_defined.aconvert_to_graph_documents(documents)"
   ]
  },
  {
   "cell_type": "code",
   "execution_count": 43,
   "metadata": {},
   "outputs": [
    {
     "name": "stdout",
     "output_type": "stream",
     "text": [
      "Graph saved to /Users/thuvu/Documents/vlogging/Research/knowledge_graph_app/knowledge_graph.html\n"
     ]
    }
   ],
   "source": [
    "# Visualize graph\n",
    "visualize_graph(graph_documents_rel_defined)"
   ]
  },
  {
   "cell_type": "code",
   "execution_count": null,
   "metadata": {},
   "outputs": [],
   "source": []
  }
 ],
 "metadata": {
  "kernelspec": {
   "display_name": "menopause_kg",
   "language": "python",
   "name": "python3"
  },
  "language_info": {
   "codemirror_mode": {
    "name": "ipython",
    "version": 3
   },
   "file_extension": ".py",
   "mimetype": "text/x-python",
   "name": "python",
   "nbconvert_exporter": "python",
   "pygments_lexer": "ipython3",
   "version": "3.10.18"
  }
 },
 "nbformat": 4,
 "nbformat_minor": 2
}
